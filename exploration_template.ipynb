{
 "cells": [
  {
   "cell_type": "markdown",
   "metadata": {},
   "source": [
    "# International Education Analysis\n",
    "## by Scott Haluck\n",
    "\n",
    "## Preliminary Wrangling\n",
    "\n",
    "> The Programme for International Student Assessment (PISA) 2012 study gathered data about student performance, student life, and school quality from 65 countries. The data is expansive in both breadth and depth, so it can be analyzed from a variety of perspectives."
   ]
  },
  {
   "cell_type": "code",
   "execution_count": 1,
   "metadata": {},
   "outputs": [],
   "source": [
    "# import all packages and set plots to be embedded inline\n",
    "import numpy as np\n",
    "import pandas as pd\n",
    "import matplotlib.pyplot as plt\n",
    "import seaborn as sb\n",
    "\n",
    "%matplotlib inline"
   ]
  },
  {
   "cell_type": "markdown",
   "metadata": {},
   "source": [
    "> Load in your dataset and describe its properties through the questions below.\n",
    "Try and motivate your exploration goals through this section."
   ]
  },
  {
   "cell_type": "code",
   "execution_count": 2,
   "metadata": {
    "scrolled": false
   },
   "outputs": [],
   "source": [
    "# import all data\n",
    "pisa = pd.read_csv('./pisa2012.csv', encoding='latin-1', low_memory=False)"
   ]
  },
  {
   "cell_type": "code",
   "execution_count": 25,
   "metadata": {},
   "outputs": [
    {
     "data": {
      "text/plain": [
       "10294"
      ]
     },
     "execution_count": 25,
     "metadata": {},
     "output_type": "execute_result"
    }
   ],
   "source": [
    "# identified inconsistent country name formatting\n",
    "(pisa.NC == 'United States of America ').sum()"
   ]
  },
  {
   "cell_type": "code",
   "execution_count": 4,
   "metadata": {
    "scrolled": true
   },
   "outputs": [
    {
     "name": "stdout",
     "output_type": "stream",
     "text": [
      "(485490, 636)\n",
      "PV1MACQ     float64\n",
      "SUBNATIO      int64\n",
      "PV3MAPI     float64\n",
      "BFMJ2       float64\n",
      "ST94Q05      object\n",
      "IC09Q04      object\n",
      "ST55Q04      object\n",
      "IC10Q07      object\n",
      "BELONG      float64\n",
      "ST61Q04      object\n",
      "dtype: object\n",
      "<class 'pandas.core.frame.DataFrame'>\n",
      "RangeIndex: 485490 entries, 0 to 485489\n",
      "Columns: 636 entries, Unnamed: 0 to VER_STU\n",
      "dtypes: float64(250), int64(18), object(368)\n",
      "memory usage: 2.3+ GB\n",
      "None\n"
     ]
    },
    {
     "data": {
      "text/html": [
       "<div>\n",
       "<style scoped>\n",
       "    .dataframe tbody tr th:only-of-type {\n",
       "        vertical-align: middle;\n",
       "    }\n",
       "\n",
       "    .dataframe tbody tr th {\n",
       "        vertical-align: top;\n",
       "    }\n",
       "\n",
       "    .dataframe thead th {\n",
       "        text-align: right;\n",
       "    }\n",
       "</style>\n",
       "<table border=\"1\" class=\"dataframe\">\n",
       "  <thead>\n",
       "    <tr style=\"text-align: right;\">\n",
       "      <th></th>\n",
       "      <th>Unnamed: 0</th>\n",
       "      <th>CNT</th>\n",
       "      <th>SUBNATIO</th>\n",
       "      <th>STRATUM</th>\n",
       "      <th>OECD</th>\n",
       "      <th>NC</th>\n",
       "      <th>SCHOOLID</th>\n",
       "      <th>STIDSTD</th>\n",
       "      <th>ST01Q01</th>\n",
       "      <th>ST02Q01</th>\n",
       "      <th>...</th>\n",
       "      <th>W_FSTR75</th>\n",
       "      <th>W_FSTR76</th>\n",
       "      <th>W_FSTR77</th>\n",
       "      <th>W_FSTR78</th>\n",
       "      <th>W_FSTR79</th>\n",
       "      <th>W_FSTR80</th>\n",
       "      <th>WVARSTRR</th>\n",
       "      <th>VAR_UNIT</th>\n",
       "      <th>SENWGT_STU</th>\n",
       "      <th>VER_STU</th>\n",
       "    </tr>\n",
       "  </thead>\n",
       "  <tbody>\n",
       "    <tr>\n",
       "      <th>399972</th>\n",
       "      <td>399973</td>\n",
       "      <td>Qatar</td>\n",
       "      <td>6340000</td>\n",
       "      <td>QAT0004</td>\n",
       "      <td>Non-OECD</td>\n",
       "      <td>Qatar</td>\n",
       "      <td>152</td>\n",
       "      <td>10722</td>\n",
       "      <td>11</td>\n",
       "      <td>4.0</td>\n",
       "      <td>...</td>\n",
       "      <td>1.5000</td>\n",
       "      <td>1.5000</td>\n",
       "      <td>1.5000</td>\n",
       "      <td>0.5000</td>\n",
       "      <td>0.5000</td>\n",
       "      <td>1.5000</td>\n",
       "      <td>50</td>\n",
       "      <td>2</td>\n",
       "      <td>0.0909</td>\n",
       "      <td>22NOV13</td>\n",
       "    </tr>\n",
       "    <tr>\n",
       "      <th>17342</th>\n",
       "      <td>17343</td>\n",
       "      <td>Argentina</td>\n",
       "      <td>320000</td>\n",
       "      <td>ARG0001</td>\n",
       "      <td>Non-OECD</td>\n",
       "      <td>Argentina</td>\n",
       "      <td>38</td>\n",
       "      <td>1100</td>\n",
       "      <td>10</td>\n",
       "      <td>5.0</td>\n",
       "      <td>...</td>\n",
       "      <td>141.4329</td>\n",
       "      <td>141.4329</td>\n",
       "      <td>141.4329</td>\n",
       "      <td>141.4329</td>\n",
       "      <td>47.1443</td>\n",
       "      <td>141.4329</td>\n",
       "      <td>33</td>\n",
       "      <td>1</td>\n",
       "      <td>0.1727</td>\n",
       "      <td>22NOV13</td>\n",
       "    </tr>\n",
       "    <tr>\n",
       "      <th>103516</th>\n",
       "      <td>103517</td>\n",
       "      <td>Switzerland</td>\n",
       "      <td>7560000</td>\n",
       "      <td>CHE0915</td>\n",
       "      <td>OECD</td>\n",
       "      <td>Switzerland</td>\n",
       "      <td>284</td>\n",
       "      <td>7503</td>\n",
       "      <td>9</td>\n",
       "      <td>11.0</td>\n",
       "      <td>...</td>\n",
       "      <td>3.7500</td>\n",
       "      <td>3.7500</td>\n",
       "      <td>1.2500</td>\n",
       "      <td>3.7500</td>\n",
       "      <td>1.2500</td>\n",
       "      <td>3.7500</td>\n",
       "      <td>34</td>\n",
       "      <td>1</td>\n",
       "      <td>0.0312</td>\n",
       "      <td>22NOV13</td>\n",
       "    </tr>\n",
       "    <tr>\n",
       "      <th>469391</th>\n",
       "      <td>469392</td>\n",
       "      <td>Turkey</td>\n",
       "      <td>7920000</td>\n",
       "      <td>TUR0015</td>\n",
       "      <td>OECD</td>\n",
       "      <td>Turkey</td>\n",
       "      <td>141</td>\n",
       "      <td>4002</td>\n",
       "      <td>9</td>\n",
       "      <td>2.0</td>\n",
       "      <td>...</td>\n",
       "      <td>280.3987</td>\n",
       "      <td>90.7772</td>\n",
       "      <td>281.1550</td>\n",
       "      <td>90.8764</td>\n",
       "      <td>281.3487</td>\n",
       "      <td>93.4625</td>\n",
       "      <td>13</td>\n",
       "      <td>1</td>\n",
       "      <td>0.2130</td>\n",
       "      <td>22NOV13</td>\n",
       "    </tr>\n",
       "    <tr>\n",
       "      <th>180178</th>\n",
       "      <td>180179</td>\n",
       "      <td>Finland</td>\n",
       "      <td>2460000</td>\n",
       "      <td>FIN0006</td>\n",
       "      <td>OECD</td>\n",
       "      <td>Finland</td>\n",
       "      <td>159</td>\n",
       "      <td>4504</td>\n",
       "      <td>9</td>\n",
       "      <td>1.0</td>\n",
       "      <td>...</td>\n",
       "      <td>18.1317</td>\n",
       "      <td>6.2556</td>\n",
       "      <td>18.1317</td>\n",
       "      <td>6.2556</td>\n",
       "      <td>18.1317</td>\n",
       "      <td>18.1317</td>\n",
       "      <td>75</td>\n",
       "      <td>2</td>\n",
       "      <td>0.2049</td>\n",
       "      <td>22NOV13</td>\n",
       "    </tr>\n",
       "  </tbody>\n",
       "</table>\n",
       "<p>5 rows × 636 columns</p>\n",
       "</div>"
      ],
      "text/plain": [
       "        Unnamed: 0          CNT  SUBNATIO  STRATUM      OECD           NC  \\\n",
       "399972      399973        Qatar   6340000  QAT0004  Non-OECD        Qatar   \n",
       "17342        17343    Argentina    320000  ARG0001  Non-OECD    Argentina   \n",
       "103516      103517  Switzerland   7560000  CHE0915      OECD  Switzerland   \n",
       "469391      469392       Turkey   7920000  TUR0015      OECD      Turkey    \n",
       "180178      180179      Finland   2460000  FIN0006      OECD      Finland   \n",
       "\n",
       "        SCHOOLID  STIDSTD  ST01Q01  ST02Q01  ...  W_FSTR75  W_FSTR76  \\\n",
       "399972       152    10722       11      4.0  ...    1.5000    1.5000   \n",
       "17342         38     1100       10      5.0  ...  141.4329  141.4329   \n",
       "103516       284     7503        9     11.0  ...    3.7500    3.7500   \n",
       "469391       141     4002        9      2.0  ...  280.3987   90.7772   \n",
       "180178       159     4504        9      1.0  ...   18.1317    6.2556   \n",
       "\n",
       "        W_FSTR77  W_FSTR78  W_FSTR79  W_FSTR80 WVARSTRR VAR_UNIT SENWGT_STU  \\\n",
       "399972    1.5000    0.5000    0.5000    1.5000       50        2     0.0909   \n",
       "17342   141.4329  141.4329   47.1443  141.4329       33        1     0.1727   \n",
       "103516    1.2500    3.7500    1.2500    3.7500       34        1     0.0312   \n",
       "469391  281.1550   90.8764  281.3487   93.4625       13        1     0.2130   \n",
       "180178   18.1317    6.2556   18.1317   18.1317       75        2     0.2049   \n",
       "\n",
       "        VER_STU  \n",
       "399972  22NOV13  \n",
       "17342   22NOV13  \n",
       "103516  22NOV13  \n",
       "469391  22NOV13  \n",
       "180178  22NOV13  \n",
       "\n",
       "[5 rows x 636 columns]"
      ]
     },
     "execution_count": 4,
     "metadata": {},
     "output_type": "execute_result"
    }
   ],
   "source": [
    "# initial investigation into data format\n",
    "print(pisa.shape)\n",
    "print(pisa.dtypes.sample(10))\n",
    "print(pisa.info())\n",
    "pisa.sample(5)"
   ]
  },
  {
   "cell_type": "markdown",
   "metadata": {},
   "source": [
    "### What is the structure of your dataset?\n",
    "\n",
    "> The data contains over 400,000 responses with over 600 variables. The variables are a variety of formats: nominal and ordinal categorical, discrete and continuous quantitative, and plain text. The values are simplified and standard scores calculated around Organisation for Economic Co-operation and Development (OECD) characteristics.\n",
    "\n",
    "### What is/are the main feature(s) of interest in your dataset?\n",
    "\n",
    "> Student demographics and experience that may contribute to academic achievement:\n",
    "* Student Demographics\n",
    "* Family Demographics\n",
    "* School characteristics\n",
    "\n",
    "### What features in the dataset do you think will help support your investigation into your feature(s) of interest?\n",
    "\n",
    "> The summary variables in the data set combine similar measures of student information into a single quantitative or categorical value. This allows for direct comparison between countries and students for analysis. The following variables will be used:\n",
    "* Student Demographics\n",
    "    - identification (STIDSTD)\n",
    "    - country of residence (OECD, NC)\n",
    "    - gender (ST04Q01)\n",
    "    - enrollment in preschool (ST05Q01)\n",
    "    - age at which education began (ST06Q01)\n",
    "    - immigration status (IMMIG, CULTDIST)\n",
    "    - language acquisition (EC05Q01, EC06Q01)\n",
    "    - access to education resources (HEDRES)\n",
    "    - academic measurements (PV1MATH, PV1READ, PV1SCIE, ANXMAT, MATBEH, MATHEFF, MATINTFC, MATWKETH)\n",
    "    - social measurements (BELONG, SUBNORM)\n",
    "* Family Demographics\n",
    "    - parental levels of education (HISCED, FISCED, MISCED)\n",
    "    - parental employment (HISEI, OCOD2, OCOD1, BFMJ2, BMMJ1)\n",
    "    - wealth (CULTPOS, HOMEPOS, WEALTH)\n",
    "    - status (ESCS)\n",
    "    - structure (FAMSTRUC)\n",
    "* School characteristics\n",
    "    - academic routines (LMINS, MMINS, SMINS)\n",
    "    - teacher behaviors (CLSMAN, MTSUP, STUDREL, TCHBEHFA, TCHBEHSO, TCHBEHTD, TEACHSUP)\n"
   ]
  },
  {
   "cell_type": "code",
   "execution_count": 12,
   "metadata": {},
   "outputs": [],
   "source": [
    "# identify columns of interest and appropriate column names\n",
    "cols = {'STIDSTD':'student_id',\n",
    "        'OECD':'oecd',\n",
    "        'NC':'country',\n",
    "        'ST05Q01':'preschool',\n",
    "        'ST06Q01':'age_edu_start',\n",
    "        'IMMIG':'immigration',\n",
    "        'CULTDIST':'culture_dist',\n",
    "        'EC05Q01':'prim_lang',\n",
    "        'EC06Q01':'age_lang_start',\n",
    "        'HEDRES':'home_edu_res',\n",
    "        'PV1MATH':'math_score',\n",
    "        'PV1READ':'read_score',\n",
    "        'PV1SCIE':'science_score', \n",
    "        'ANXMAT':'math_anxiety',\n",
    "        'MATBEH':'math_behaviors',\n",
    "        'MATHEFF':'math_efficacy',\n",
    "        'MATINTFC':'math_intentions',\n",
    "        'MATWKETH':'math_work_ethic',\n",
    "        'SUBNORM':'math_norm',\n",
    "        'BELONG':'belong',\n",
    "        'HISCED':'parent_edu',\n",
    "        'FISCED':'father_edu',\n",
    "        'MISCED':'mother_edu',\n",
    "        'HISEI':'parent_occ', \n",
    "        'OCOD2':'father_occ',\n",
    "        'OCOD1':'mother_occ',\n",
    "        'BFMJ2':'father_occ_status',\n",
    "        'BMMJ1':'mother_occ_status',\n",
    "        'CULTPOS':'poss_culture',\n",
    "        'HOMEPOS':'poss_home', \n",
    "        'WEALTH':'wealth',\n",
    "        'ESCS':'status_index',\n",
    "        'FAMSTRUC':'fam_struct',\n",
    "        'LMINS':'lang_min',\n",
    "        'MMINS':'math_min',\n",
    "        'SMINS':'science_min',\n",
    "        'CLSMAN':'teacher_math_man',\n",
    "        'MTSUP':'teacher_math_sup',\n",
    "        'STUDREL':'teacher_rel',\n",
    "        'TCHBEHFA':'teacher_form',\n",
    "        'TCHBEHSO':'teacher_stud_focus',\n",
    "        'TCHBEHTD':'teacher_lect',\n",
    "        'TEACHSUP':'teacher_supp'}\n",
    "\n",
    "# gather only the columns of interest\n",
    "pisa_data = pisa.loc[:,cols]\n",
    "# rename columns with more description\n",
    "pisa_data.rename(columns=cols, inplace=True)"
   ]
  },
  {
   "cell_type": "code",
   "execution_count": 13,
   "metadata": {
    "scrolled": false
   },
   "outputs": [
    {
     "data": {
      "text/html": [
       "<div>\n",
       "<style scoped>\n",
       "    .dataframe tbody tr th:only-of-type {\n",
       "        vertical-align: middle;\n",
       "    }\n",
       "\n",
       "    .dataframe tbody tr th {\n",
       "        vertical-align: top;\n",
       "    }\n",
       "\n",
       "    .dataframe thead th {\n",
       "        text-align: right;\n",
       "    }\n",
       "</style>\n",
       "<table border=\"1\" class=\"dataframe\">\n",
       "  <thead>\n",
       "    <tr style=\"text-align: right;\">\n",
       "      <th></th>\n",
       "      <th>student_id</th>\n",
       "      <th>oecd</th>\n",
       "      <th>country</th>\n",
       "      <th>preschool</th>\n",
       "      <th>age_edu_start</th>\n",
       "      <th>immigration</th>\n",
       "      <th>culture_dist</th>\n",
       "      <th>prim_lang</th>\n",
       "      <th>age_lang_start</th>\n",
       "      <th>home_edu_res</th>\n",
       "      <th>...</th>\n",
       "      <th>lang_min</th>\n",
       "      <th>math_min</th>\n",
       "      <th>science_min</th>\n",
       "      <th>teacher_math_man</th>\n",
       "      <th>teacher_math_sup</th>\n",
       "      <th>teacher_rel</th>\n",
       "      <th>teacher_form</th>\n",
       "      <th>teacher_stud_focus</th>\n",
       "      <th>teacher_lect</th>\n",
       "      <th>teacher_supp</th>\n",
       "    </tr>\n",
       "  </thead>\n",
       "  <tbody>\n",
       "    <tr>\n",
       "      <th>339760</th>\n",
       "      <td>24058</td>\n",
       "      <td>OECD</td>\n",
       "      <td>Mexico</td>\n",
       "      <td>Yes, for more than one year</td>\n",
       "      <td>5.0</td>\n",
       "      <td>Native</td>\n",
       "      <td>NaN</td>\n",
       "      <td>NaN</td>\n",
       "      <td>NaN</td>\n",
       "      <td>-1.29</td>\n",
       "      <td>...</td>\n",
       "      <td>180.0</td>\n",
       "      <td>240.0</td>\n",
       "      <td>180.0</td>\n",
       "      <td>NaN</td>\n",
       "      <td>NaN</td>\n",
       "      <td>NaN</td>\n",
       "      <td>NaN</td>\n",
       "      <td>NaN</td>\n",
       "      <td>NaN</td>\n",
       "      <td>NaN</td>\n",
       "    </tr>\n",
       "    <tr>\n",
       "      <th>292777</th>\n",
       "      <td>1918</td>\n",
       "      <td>OECD</td>\n",
       "      <td>Republic of Korea</td>\n",
       "      <td>Yes, for one year or less</td>\n",
       "      <td>7.0</td>\n",
       "      <td>Native</td>\n",
       "      <td>NaN</td>\n",
       "      <td>&lt;test language&gt; or &lt;other official national la...</td>\n",
       "      <td>NaN</td>\n",
       "      <td>-2.31</td>\n",
       "      <td>...</td>\n",
       "      <td>NaN</td>\n",
       "      <td>NaN</td>\n",
       "      <td>NaN</td>\n",
       "      <td>-1.3771</td>\n",
       "      <td>1.1169</td>\n",
       "      <td>-1.47</td>\n",
       "      <td>1.3625</td>\n",
       "      <td>1.6360</td>\n",
       "      <td>-0.0798</td>\n",
       "      <td>0.11</td>\n",
       "    </tr>\n",
       "    <tr>\n",
       "      <th>483817</th>\n",
       "      <td>3287</td>\n",
       "      <td>Non-OECD</td>\n",
       "      <td>Viet Nam</td>\n",
       "      <td>Yes, for one year or less</td>\n",
       "      <td>6.0</td>\n",
       "      <td>Native</td>\n",
       "      <td>NaN</td>\n",
       "      <td>NaN</td>\n",
       "      <td>NaN</td>\n",
       "      <td>-3.93</td>\n",
       "      <td>...</td>\n",
       "      <td>225.0</td>\n",
       "      <td>180.0</td>\n",
       "      <td>135.0</td>\n",
       "      <td>NaN</td>\n",
       "      <td>NaN</td>\n",
       "      <td>NaN</td>\n",
       "      <td>NaN</td>\n",
       "      <td>NaN</td>\n",
       "      <td>NaN</td>\n",
       "      <td>NaN</td>\n",
       "    </tr>\n",
       "    <tr>\n",
       "      <th>405394</th>\n",
       "      <td>1</td>\n",
       "      <td>Non-OECD</td>\n",
       "      <td>Perm (Russian Federation)</td>\n",
       "      <td>Yes, for more than one year</td>\n",
       "      <td>7.0</td>\n",
       "      <td>Native</td>\n",
       "      <td>NaN</td>\n",
       "      <td>NaN</td>\n",
       "      <td>NaN</td>\n",
       "      <td>-0.69</td>\n",
       "      <td>...</td>\n",
       "      <td>NaN</td>\n",
       "      <td>NaN</td>\n",
       "      <td>NaN</td>\n",
       "      <td>0.7640</td>\n",
       "      <td>-0.6577</td>\n",
       "      <td>1.13</td>\n",
       "      <td>0.2509</td>\n",
       "      <td>0.7183</td>\n",
       "      <td>-0.0798</td>\n",
       "      <td>0.11</td>\n",
       "    </tr>\n",
       "    <tr>\n",
       "      <th>36364</th>\n",
       "      <td>14214</td>\n",
       "      <td>OECD</td>\n",
       "      <td>Australia</td>\n",
       "      <td>Yes, for one year or less</td>\n",
       "      <td>4.0</td>\n",
       "      <td>Native</td>\n",
       "      <td>NaN</td>\n",
       "      <td>NaN</td>\n",
       "      <td>NaN</td>\n",
       "      <td>1.12</td>\n",
       "      <td>...</td>\n",
       "      <td>NaN</td>\n",
       "      <td>NaN</td>\n",
       "      <td>NaN</td>\n",
       "      <td>-1.0878</td>\n",
       "      <td>-0.2395</td>\n",
       "      <td>-0.79</td>\n",
       "      <td>0.7644</td>\n",
       "      <td>1.9450</td>\n",
       "      <td>2.5630</td>\n",
       "      <td>0.11</td>\n",
       "    </tr>\n",
       "  </tbody>\n",
       "</table>\n",
       "<p>5 rows × 43 columns</p>\n",
       "</div>"
      ],
      "text/plain": [
       "        student_id      oecd                    country  \\\n",
       "339760       24058      OECD                    Mexico    \n",
       "292777        1918      OECD          Republic of Korea   \n",
       "483817        3287  Non-OECD                  Viet Nam    \n",
       "405394           1  Non-OECD  Perm (Russian Federation)   \n",
       "36364        14214      OECD                  Australia   \n",
       "\n",
       "                          preschool  age_edu_start immigration  culture_dist  \\\n",
       "339760  Yes, for more than one year            5.0      Native           NaN   \n",
       "292777   Yes, for one year or less             7.0      Native           NaN   \n",
       "483817   Yes, for one year or less             6.0      Native           NaN   \n",
       "405394  Yes, for more than one year            7.0      Native           NaN   \n",
       "36364    Yes, for one year or less             4.0      Native           NaN   \n",
       "\n",
       "                                                prim_lang age_lang_start  \\\n",
       "339760                                                NaN            NaN   \n",
       "292777  <test language> or <other official national la...            NaN   \n",
       "483817                                                NaN            NaN   \n",
       "405394                                                NaN            NaN   \n",
       "36364                                                 NaN            NaN   \n",
       "\n",
       "        home_edu_res  ...  lang_min  math_min  science_min  teacher_math_man  \\\n",
       "339760         -1.29  ...     180.0     240.0        180.0               NaN   \n",
       "292777         -2.31  ...       NaN       NaN          NaN           -1.3771   \n",
       "483817         -3.93  ...     225.0     180.0        135.0               NaN   \n",
       "405394         -0.69  ...       NaN       NaN          NaN            0.7640   \n",
       "36364           1.12  ...       NaN       NaN          NaN           -1.0878   \n",
       "\n",
       "        teacher_math_sup  teacher_rel  teacher_form  teacher_stud_focus  \\\n",
       "339760               NaN          NaN           NaN                 NaN   \n",
       "292777            1.1169        -1.47        1.3625              1.6360   \n",
       "483817               NaN          NaN           NaN                 NaN   \n",
       "405394           -0.6577         1.13        0.2509              0.7183   \n",
       "36364            -0.2395        -0.79        0.7644              1.9450   \n",
       "\n",
       "        teacher_lect  teacher_supp  \n",
       "339760           NaN           NaN  \n",
       "292777       -0.0798          0.11  \n",
       "483817           NaN           NaN  \n",
       "405394       -0.0798          0.11  \n",
       "36364         2.5630          0.11  \n",
       "\n",
       "[5 rows x 43 columns]"
      ]
     },
     "execution_count": 13,
     "metadata": {},
     "output_type": "execute_result"
    }
   ],
   "source": [
    "# test that renaming was successful\n",
    "pisa_data.sample(5)"
   ]
  },
  {
   "cell_type": "code",
   "execution_count": 23,
   "metadata": {
    "scrolled": true
   },
   "outputs": [],
   "source": [
    "# fix inconsistent formatting in country name\n",
    "pisa_data.country = pisa_data.country.apply(lambda x: x.strip())"
   ]
  },
  {
   "cell_type": "code",
   "execution_count": 24,
   "metadata": {},
   "outputs": [
    {
     "data": {
      "text/plain": [
       "0"
      ]
     },
     "execution_count": 24,
     "metadata": {},
     "output_type": "execute_result"
    }
   ],
   "source": [
    "# test that formatting was successful\n",
    "(pisa_data.country == 'United States of America ').sum()"
   ]
  },
  {
   "cell_type": "code",
   "execution_count": 26,
   "metadata": {},
   "outputs": [],
   "source": [
    "# store data of interest for faster loading in the future\n",
    "pisa_data.to_csv('pisa_summ.csv',index=False)"
   ]
  },
  {
   "cell_type": "code",
   "execution_count": 2,
   "metadata": {
    "scrolled": false
   },
   "outputs": [
    {
     "data": {
      "text/html": [
       "<div>\n",
       "<style scoped>\n",
       "    .dataframe tbody tr th:only-of-type {\n",
       "        vertical-align: middle;\n",
       "    }\n",
       "\n",
       "    .dataframe tbody tr th {\n",
       "        vertical-align: top;\n",
       "    }\n",
       "\n",
       "    .dataframe thead th {\n",
       "        text-align: right;\n",
       "    }\n",
       "</style>\n",
       "<table border=\"1\" class=\"dataframe\">\n",
       "  <thead>\n",
       "    <tr style=\"text-align: right;\">\n",
       "      <th></th>\n",
       "      <th>student_id</th>\n",
       "      <th>oecd</th>\n",
       "      <th>country</th>\n",
       "      <th>preschool</th>\n",
       "      <th>age_edu_start</th>\n",
       "      <th>immigration</th>\n",
       "      <th>culture_dist</th>\n",
       "      <th>prim_lang</th>\n",
       "      <th>age_lang_start</th>\n",
       "      <th>home_edu_res</th>\n",
       "      <th>...</th>\n",
       "      <th>lang_min</th>\n",
       "      <th>math_min</th>\n",
       "      <th>science_min</th>\n",
       "      <th>teacher_math_man</th>\n",
       "      <th>teacher_math_sup</th>\n",
       "      <th>teacher_rel</th>\n",
       "      <th>teacher_form</th>\n",
       "      <th>teacher_stud_focus</th>\n",
       "      <th>teacher_lect</th>\n",
       "      <th>teacher_supp</th>\n",
       "    </tr>\n",
       "  </thead>\n",
       "  <tbody>\n",
       "    <tr>\n",
       "      <th>0</th>\n",
       "      <td>1</td>\n",
       "      <td>Non-OECD</td>\n",
       "      <td>Albania</td>\n",
       "      <td>No</td>\n",
       "      <td>6.0</td>\n",
       "      <td>Native</td>\n",
       "      <td>NaN</td>\n",
       "      <td>NaN</td>\n",
       "      <td>NaN</td>\n",
       "      <td>-1.29</td>\n",
       "      <td>...</td>\n",
       "      <td>NaN</td>\n",
       "      <td>NaN</td>\n",
       "      <td>NaN</td>\n",
       "      <td>-1.3771</td>\n",
       "      <td>-0.9508</td>\n",
       "      <td>-1.04</td>\n",
       "      <td>1.3625</td>\n",
       "      <td>0.9374</td>\n",
       "      <td>0.4297</td>\n",
       "      <td>1.68</td>\n",
       "    </tr>\n",
       "    <tr>\n",
       "      <th>1</th>\n",
       "      <td>2</td>\n",
       "      <td>Non-OECD</td>\n",
       "      <td>Albania</td>\n",
       "      <td>Yes, for more than one year</td>\n",
       "      <td>7.0</td>\n",
       "      <td>Native</td>\n",
       "      <td>NaN</td>\n",
       "      <td>NaN</td>\n",
       "      <td>NaN</td>\n",
       "      <td>1.12</td>\n",
       "      <td>...</td>\n",
       "      <td>315.0</td>\n",
       "      <td>270.0</td>\n",
       "      <td>90.0</td>\n",
       "      <td>NaN</td>\n",
       "      <td>NaN</td>\n",
       "      <td>NaN</td>\n",
       "      <td>NaN</td>\n",
       "      <td>NaN</td>\n",
       "      <td>NaN</td>\n",
       "      <td>NaN</td>\n",
       "    </tr>\n",
       "    <tr>\n",
       "      <th>2</th>\n",
       "      <td>3</td>\n",
       "      <td>Non-OECD</td>\n",
       "      <td>Albania</td>\n",
       "      <td>Yes, for more than one year</td>\n",
       "      <td>6.0</td>\n",
       "      <td>Native</td>\n",
       "      <td>NaN</td>\n",
       "      <td>NaN</td>\n",
       "      <td>NaN</td>\n",
       "      <td>-0.69</td>\n",
       "      <td>...</td>\n",
       "      <td>300.0</td>\n",
       "      <td>NaN</td>\n",
       "      <td>NaN</td>\n",
       "      <td>NaN</td>\n",
       "      <td>NaN</td>\n",
       "      <td>NaN</td>\n",
       "      <td>NaN</td>\n",
       "      <td>NaN</td>\n",
       "      <td>NaN</td>\n",
       "      <td>NaN</td>\n",
       "    </tr>\n",
       "    <tr>\n",
       "      <th>3</th>\n",
       "      <td>4</td>\n",
       "      <td>Non-OECD</td>\n",
       "      <td>Albania</td>\n",
       "      <td>Yes, for more than one year</td>\n",
       "      <td>6.0</td>\n",
       "      <td>Native</td>\n",
       "      <td>NaN</td>\n",
       "      <td>NaN</td>\n",
       "      <td>NaN</td>\n",
       "      <td>0.04</td>\n",
       "      <td>...</td>\n",
       "      <td>135.0</td>\n",
       "      <td>135.0</td>\n",
       "      <td>90.0</td>\n",
       "      <td>NaN</td>\n",
       "      <td>1.6748</td>\n",
       "      <td>NaN</td>\n",
       "      <td>0.7644</td>\n",
       "      <td>3.3108</td>\n",
       "      <td>2.3916</td>\n",
       "      <td>1.68</td>\n",
       "    </tr>\n",
       "    <tr>\n",
       "      <th>4</th>\n",
       "      <td>5</td>\n",
       "      <td>Non-OECD</td>\n",
       "      <td>Albania</td>\n",
       "      <td>Yes, for more than one year</td>\n",
       "      <td>6.0</td>\n",
       "      <td>Native</td>\n",
       "      <td>NaN</td>\n",
       "      <td>NaN</td>\n",
       "      <td>NaN</td>\n",
       "      <td>-0.69</td>\n",
       "      <td>...</td>\n",
       "      <td>NaN</td>\n",
       "      <td>NaN</td>\n",
       "      <td>NaN</td>\n",
       "      <td>-0.0784</td>\n",
       "      <td>0.6709</td>\n",
       "      <td>-0.02</td>\n",
       "      <td>0.7644</td>\n",
       "      <td>0.9374</td>\n",
       "      <td>0.4297</td>\n",
       "      <td>0.11</td>\n",
       "    </tr>\n",
       "  </tbody>\n",
       "</table>\n",
       "<p>5 rows × 43 columns</p>\n",
       "</div>"
      ],
      "text/plain": [
       "   student_id      oecd  country                    preschool  age_edu_start  \\\n",
       "0           1  Non-OECD  Albania                         No              6.0   \n",
       "1           2  Non-OECD  Albania  Yes, for more than one year            7.0   \n",
       "2           3  Non-OECD  Albania  Yes, for more than one year            6.0   \n",
       "3           4  Non-OECD  Albania  Yes, for more than one year            6.0   \n",
       "4           5  Non-OECD  Albania  Yes, for more than one year            6.0   \n",
       "\n",
       "  immigration  culture_dist prim_lang age_lang_start  home_edu_res  ...  \\\n",
       "0      Native           NaN       NaN            NaN         -1.29  ...   \n",
       "1      Native           NaN       NaN            NaN          1.12  ...   \n",
       "2      Native           NaN       NaN            NaN         -0.69  ...   \n",
       "3      Native           NaN       NaN            NaN          0.04  ...   \n",
       "4      Native           NaN       NaN            NaN         -0.69  ...   \n",
       "\n",
       "   lang_min  math_min  science_min  teacher_math_man  teacher_math_sup  \\\n",
       "0       NaN       NaN          NaN           -1.3771           -0.9508   \n",
       "1     315.0     270.0         90.0               NaN               NaN   \n",
       "2     300.0       NaN          NaN               NaN               NaN   \n",
       "3     135.0     135.0         90.0               NaN            1.6748   \n",
       "4       NaN       NaN          NaN           -0.0784            0.6709   \n",
       "\n",
       "   teacher_rel  teacher_form  teacher_stud_focus  teacher_lect  teacher_supp  \n",
       "0        -1.04        1.3625              0.9374        0.4297          1.68  \n",
       "1          NaN           NaN                 NaN           NaN           NaN  \n",
       "2          NaN           NaN                 NaN           NaN           NaN  \n",
       "3          NaN        0.7644              3.3108        2.3916          1.68  \n",
       "4        -0.02        0.7644              0.9374        0.4297          0.11  \n",
       "\n",
       "[5 rows x 43 columns]"
      ]
     },
     "execution_count": 2,
     "metadata": {},
     "output_type": "execute_result"
    }
   ],
   "source": [
    "# load the data of interest\n",
    "pisa_data = pd.read_csv('pisa_summ.csv', low_memory=False)\n",
    "pisa_data.head()"
   ]
  },
  {
   "cell_type": "code",
   "execution_count": 3,
   "metadata": {
    "scrolled": true
   },
   "outputs": [
    {
     "data": {
      "text/plain": [
       "student_id              int64\n",
       "oecd                   object\n",
       "country                object\n",
       "preschool              object\n",
       "age_edu_start         float64\n",
       "immigration            object\n",
       "culture_dist          float64\n",
       "prim_lang              object\n",
       "age_lang_start         object\n",
       "home_edu_res          float64\n",
       "math_score            float64\n",
       "read_score            float64\n",
       "science_score         float64\n",
       "math_anxiety          float64\n",
       "math_behaviors        float64\n",
       "math_efficacy         float64\n",
       "math_intentions       float64\n",
       "math_work_ethic       float64\n",
       "math_norm             float64\n",
       "belong                float64\n",
       "parent_edu             object\n",
       "father_edu             object\n",
       "mother_edu             object\n",
       "parent_occ            float64\n",
       "father_occ             object\n",
       "mother_occ             object\n",
       "father_occ_status     float64\n",
       "mother_occ_status     float64\n",
       "poss_culture          float64\n",
       "poss_home             float64\n",
       "wealth                float64\n",
       "status_index          float64\n",
       "fam_struct            float64\n",
       "lang_min              float64\n",
       "math_min              float64\n",
       "science_min           float64\n",
       "teacher_math_man      float64\n",
       "teacher_math_sup      float64\n",
       "teacher_rel           float64\n",
       "teacher_form          float64\n",
       "teacher_stud_focus    float64\n",
       "teacher_lect          float64\n",
       "teacher_supp          float64\n",
       "dtype: object"
      ]
     },
     "execution_count": 3,
     "metadata": {},
     "output_type": "execute_result"
    }
   ],
   "source": [
    "# examine data types for variables\n",
    "pisa_data.dtypes"
   ]
  },
  {
   "cell_type": "code",
   "execution_count": 4,
   "metadata": {
    "scrolled": true
   },
   "outputs": [
    {
     "data": {
      "text/plain": [
       "array([nan, '0 to 3 years', '4 to 6 years', '10 to 12 years',\n",
       "       '7 to 9 years', '13 years or older'], dtype=object)"
      ]
     },
     "execution_count": 4,
     "metadata": {},
     "output_type": "execute_result"
    }
   ],
   "source": [
    "# examine the format of the object type in age_lang_start\n",
    "pisa_data.age_lang_start.unique()"
   ]
  },
  {
   "cell_type": "code",
   "execution_count": 5,
   "metadata": {},
   "outputs": [
    {
     "data": {
      "text/html": [
       "<div>\n",
       "<style scoped>\n",
       "    .dataframe tbody tr th:only-of-type {\n",
       "        vertical-align: middle;\n",
       "    }\n",
       "\n",
       "    .dataframe tbody tr th {\n",
       "        vertical-align: top;\n",
       "    }\n",
       "\n",
       "    .dataframe thead th {\n",
       "        text-align: right;\n",
       "    }\n",
       "</style>\n",
       "<table border=\"1\" class=\"dataframe\">\n",
       "  <thead>\n",
       "    <tr style=\"text-align: right;\">\n",
       "      <th></th>\n",
       "      <th>student_id</th>\n",
       "      <th>age_edu_start</th>\n",
       "      <th>culture_dist</th>\n",
       "      <th>home_edu_res</th>\n",
       "      <th>math_score</th>\n",
       "      <th>read_score</th>\n",
       "      <th>science_score</th>\n",
       "      <th>math_anxiety</th>\n",
       "      <th>math_behaviors</th>\n",
       "      <th>math_efficacy</th>\n",
       "      <th>...</th>\n",
       "      <th>lang_min</th>\n",
       "      <th>math_min</th>\n",
       "      <th>science_min</th>\n",
       "      <th>teacher_math_man</th>\n",
       "      <th>teacher_math_sup</th>\n",
       "      <th>teacher_rel</th>\n",
       "      <th>teacher_form</th>\n",
       "      <th>teacher_stud_focus</th>\n",
       "      <th>teacher_lect</th>\n",
       "      <th>teacher_supp</th>\n",
       "    </tr>\n",
       "  </thead>\n",
       "  <tbody>\n",
       "    <tr>\n",
       "      <th>count</th>\n",
       "      <td>485490.000000</td>\n",
       "      <td>457994.000000</td>\n",
       "      <td>13380.000000</td>\n",
       "      <td>477772.000000</td>\n",
       "      <td>485490.000000</td>\n",
       "      <td>485490.000000</td>\n",
       "      <td>485490.000000</td>\n",
       "      <td>314764.000000</td>\n",
       "      <td>313847.000000</td>\n",
       "      <td>315948.000000</td>\n",
       "      <td>...</td>\n",
       "      <td>282866.000000</td>\n",
       "      <td>283303.000000</td>\n",
       "      <td>270914.000000</td>\n",
       "      <td>312708.000000</td>\n",
       "      <td>313599.000000</td>\n",
       "      <td>313860.000000</td>\n",
       "      <td>314678.000000</td>\n",
       "      <td>315114.000000</td>\n",
       "      <td>315519.000000</td>\n",
       "      <td>316371.000000</td>\n",
       "    </tr>\n",
       "    <tr>\n",
       "      <th>mean</th>\n",
       "      <td>6134.066201</td>\n",
       "      <td>6.148963</td>\n",
       "      <td>-0.075938</td>\n",
       "      <td>-0.195442</td>\n",
       "      <td>469.621653</td>\n",
       "      <td>472.004640</td>\n",
       "      <td>475.769824</td>\n",
       "      <td>0.152647</td>\n",
       "      <td>0.241209</td>\n",
       "      <td>-0.046626</td>\n",
       "      <td>...</td>\n",
       "      <td>219.276636</td>\n",
       "      <td>226.007056</td>\n",
       "      <td>211.122460</td>\n",
       "      <td>0.083241</td>\n",
       "      <td>0.177720</td>\n",
       "      <td>0.123262</td>\n",
       "      <td>0.137930</td>\n",
       "      <td>0.209052</td>\n",
       "      <td>0.147423</td>\n",
       "      <td>0.152789</td>\n",
       "    </tr>\n",
       "    <tr>\n",
       "      <th>std</th>\n",
       "      <td>6733.144944</td>\n",
       "      <td>0.970693</td>\n",
       "      <td>1.008322</td>\n",
       "      <td>1.074053</td>\n",
       "      <td>103.265391</td>\n",
       "      <td>102.505523</td>\n",
       "      <td>101.464426</td>\n",
       "      <td>0.955031</td>\n",
       "      <td>1.054971</td>\n",
       "      <td>0.973588</td>\n",
       "      <td>...</td>\n",
       "      <td>97.997730</td>\n",
       "      <td>97.448421</td>\n",
       "      <td>131.368322</td>\n",
       "      <td>0.990321</td>\n",
       "      <td>1.011025</td>\n",
       "      <td>1.029343</td>\n",
       "      <td>1.027669</td>\n",
       "      <td>1.045459</td>\n",
       "      <td>1.051583</td>\n",
       "      <td>0.995688</td>\n",
       "    </tr>\n",
       "    <tr>\n",
       "      <th>min</th>\n",
       "      <td>1.000000</td>\n",
       "      <td>4.000000</td>\n",
       "      <td>-2.721000</td>\n",
       "      <td>-3.930000</td>\n",
       "      <td>19.792800</td>\n",
       "      <td>0.083400</td>\n",
       "      <td>2.648300</td>\n",
       "      <td>-2.370000</td>\n",
       "      <td>-2.140200</td>\n",
       "      <td>-3.750000</td>\n",
       "      <td>...</td>\n",
       "      <td>0.000000</td>\n",
       "      <td>0.000000</td>\n",
       "      <td>0.000000</td>\n",
       "      <td>-3.253000</td>\n",
       "      <td>-2.864500</td>\n",
       "      <td>-3.110000</td>\n",
       "      <td>-2.391900</td>\n",
       "      <td>-1.599900</td>\n",
       "      <td>-3.653100</td>\n",
       "      <td>-2.920000</td>\n",
       "    </tr>\n",
       "    <tr>\n",
       "      <th>25%</th>\n",
       "      <td>1811.000000</td>\n",
       "      <td>6.000000</td>\n",
       "      <td>-0.790100</td>\n",
       "      <td>-0.690000</td>\n",
       "      <td>395.318600</td>\n",
       "      <td>403.600700</td>\n",
       "      <td>404.457300</td>\n",
       "      <td>-0.470000</td>\n",
       "      <td>-0.456700</td>\n",
       "      <td>-0.630000</td>\n",
       "      <td>...</td>\n",
       "      <td>165.000000</td>\n",
       "      <td>180.000000</td>\n",
       "      <td>120.000000</td>\n",
       "      <td>-0.449900</td>\n",
       "      <td>-0.657700</td>\n",
       "      <td>-0.480000</td>\n",
       "      <td>-0.594500</td>\n",
       "      <td>-0.580900</td>\n",
       "      <td>-0.561200</td>\n",
       "      <td>-0.470000</td>\n",
       "    </tr>\n",
       "    <tr>\n",
       "      <th>50%</th>\n",
       "      <td>3740.000000</td>\n",
       "      <td>6.000000</td>\n",
       "      <td>-0.051100</td>\n",
       "      <td>0.040000</td>\n",
       "      <td>466.201900</td>\n",
       "      <td>475.455000</td>\n",
       "      <td>475.699400</td>\n",
       "      <td>0.060000</td>\n",
       "      <td>0.217100</td>\n",
       "      <td>-0.180000</td>\n",
       "      <td>...</td>\n",
       "      <td>200.000000</td>\n",
       "      <td>220.000000</td>\n",
       "      <td>180.000000</td>\n",
       "      <td>-0.078400</td>\n",
       "      <td>0.248600</td>\n",
       "      <td>-0.020000</td>\n",
       "      <td>0.250900</td>\n",
       "      <td>0.221700</td>\n",
       "      <td>0.167200</td>\n",
       "      <td>0.110000</td>\n",
       "    </tr>\n",
       "    <tr>\n",
       "      <th>75%</th>\n",
       "      <td>7456.000000</td>\n",
       "      <td>7.000000</td>\n",
       "      <td>0.353500</td>\n",
       "      <td>1.120000</td>\n",
       "      <td>541.057800</td>\n",
       "      <td>544.502500</td>\n",
       "      <td>547.780700</td>\n",
       "      <td>0.790000</td>\n",
       "      <td>0.811000</td>\n",
       "      <td>0.540000</td>\n",
       "      <td>...</td>\n",
       "      <td>250.000000</td>\n",
       "      <td>250.000000</td>\n",
       "      <td>270.000000</td>\n",
       "      <td>0.764000</td>\n",
       "      <td>1.116900</td>\n",
       "      <td>0.810000</td>\n",
       "      <td>0.764400</td>\n",
       "      <td>0.718300</td>\n",
       "      <td>0.722800</td>\n",
       "      <td>0.970000</td>\n",
       "    </tr>\n",
       "    <tr>\n",
       "      <th>max</th>\n",
       "      <td>33806.000000</td>\n",
       "      <td>16.000000</td>\n",
       "      <td>1.535500</td>\n",
       "      <td>1.120000</td>\n",
       "      <td>962.229300</td>\n",
       "      <td>904.802600</td>\n",
       "      <td>903.338300</td>\n",
       "      <td>2.550000</td>\n",
       "      <td>4.424900</td>\n",
       "      <td>2.270000</td>\n",
       "      <td>...</td>\n",
       "      <td>2400.000000</td>\n",
       "      <td>3000.000000</td>\n",
       "      <td>2975.000000</td>\n",
       "      <td>2.198900</td>\n",
       "      <td>1.843300</td>\n",
       "      <td>2.160000</td>\n",
       "      <td>2.629500</td>\n",
       "      <td>3.310800</td>\n",
       "      <td>2.563000</td>\n",
       "      <td>1.680000</td>\n",
       "    </tr>\n",
       "  </tbody>\n",
       "</table>\n",
       "<p>8 rows × 32 columns</p>\n",
       "</div>"
      ],
      "text/plain": [
       "          student_id  age_edu_start  culture_dist   home_edu_res  \\\n",
       "count  485490.000000  457994.000000  13380.000000  477772.000000   \n",
       "mean     6134.066201       6.148963     -0.075938      -0.195442   \n",
       "std      6733.144944       0.970693      1.008322       1.074053   \n",
       "min         1.000000       4.000000     -2.721000      -3.930000   \n",
       "25%      1811.000000       6.000000     -0.790100      -0.690000   \n",
       "50%      3740.000000       6.000000     -0.051100       0.040000   \n",
       "75%      7456.000000       7.000000      0.353500       1.120000   \n",
       "max     33806.000000      16.000000      1.535500       1.120000   \n",
       "\n",
       "          math_score     read_score  science_score   math_anxiety  \\\n",
       "count  485490.000000  485490.000000  485490.000000  314764.000000   \n",
       "mean      469.621653     472.004640     475.769824       0.152647   \n",
       "std       103.265391     102.505523     101.464426       0.955031   \n",
       "min        19.792800       0.083400       2.648300      -2.370000   \n",
       "25%       395.318600     403.600700     404.457300      -0.470000   \n",
       "50%       466.201900     475.455000     475.699400       0.060000   \n",
       "75%       541.057800     544.502500     547.780700       0.790000   \n",
       "max       962.229300     904.802600     903.338300       2.550000   \n",
       "\n",
       "       math_behaviors  math_efficacy  ...       lang_min       math_min  \\\n",
       "count   313847.000000  315948.000000  ...  282866.000000  283303.000000   \n",
       "mean         0.241209      -0.046626  ...     219.276636     226.007056   \n",
       "std          1.054971       0.973588  ...      97.997730      97.448421   \n",
       "min         -2.140200      -3.750000  ...       0.000000       0.000000   \n",
       "25%         -0.456700      -0.630000  ...     165.000000     180.000000   \n",
       "50%          0.217100      -0.180000  ...     200.000000     220.000000   \n",
       "75%          0.811000       0.540000  ...     250.000000     250.000000   \n",
       "max          4.424900       2.270000  ...    2400.000000    3000.000000   \n",
       "\n",
       "         science_min  teacher_math_man  teacher_math_sup    teacher_rel  \\\n",
       "count  270914.000000     312708.000000     313599.000000  313860.000000   \n",
       "mean      211.122460          0.083241          0.177720       0.123262   \n",
       "std       131.368322          0.990321          1.011025       1.029343   \n",
       "min         0.000000         -3.253000         -2.864500      -3.110000   \n",
       "25%       120.000000         -0.449900         -0.657700      -0.480000   \n",
       "50%       180.000000         -0.078400          0.248600      -0.020000   \n",
       "75%       270.000000          0.764000          1.116900       0.810000   \n",
       "max      2975.000000          2.198900          1.843300       2.160000   \n",
       "\n",
       "        teacher_form  teacher_stud_focus   teacher_lect   teacher_supp  \n",
       "count  314678.000000       315114.000000  315519.000000  316371.000000  \n",
       "mean        0.137930            0.209052       0.147423       0.152789  \n",
       "std         1.027669            1.045459       1.051583       0.995688  \n",
       "min        -2.391900           -1.599900      -3.653100      -2.920000  \n",
       "25%        -0.594500           -0.580900      -0.561200      -0.470000  \n",
       "50%         0.250900            0.221700       0.167200       0.110000  \n",
       "75%         0.764400            0.718300       0.722800       0.970000  \n",
       "max         2.629500            3.310800       2.563000       1.680000  \n",
       "\n",
       "[8 rows x 32 columns]"
      ]
     },
     "execution_count": 5,
     "metadata": {},
     "output_type": "execute_result"
    }
   ],
   "source": [
    "# investigate summary statistcs for numerical variables\n",
    "pisa_data.describe()"
   ]
  },
  {
   "cell_type": "markdown",
   "metadata": {},
   "source": [
    "## Univariate Exploration\n",
    "\n",
    "> In this section, investigate distributions of individual variables. If\n",
    "you see unusual points or outliers, take a deeper look to clean things up\n",
    "and prepare yourself to look at relationships between variables."
   ]
  },
  {
   "cell_type": "markdown",
   "metadata": {},
   "source": [
    "### Test Scores\n",
    "Examine the distributions of the math, reading, and science evaluations of student performance."
   ]
  },
  {
   "cell_type": "code",
   "execution_count": 6,
   "metadata": {
    "scrolled": false
   },
   "outputs": [
    {
     "data": {
      "image/png": "[encoded data removed]",
      "text/plain": [
       "<Figure size 432x288 with 1 Axes>"
      ]
     },
     "metadata": {
      "needs_background": "light"
     },
     "output_type": "display_data"
    }
   ],
   "source": [
    "plt.hist(pisa_data.math_score,bins=50, alpha=0.2)\n",
    "plt.hist(pisa_data.read_score,bins=50, alpha=0.2)\n",
    "plt.hist(pisa_data.science_score,bins=50, alpha=0.2);"
   ]
  },
  {
   "cell_type": "markdown",
   "metadata": {},
   "source": [
    "All three evaluations are Normally distributed with centers around 470."
   ]
  },
  {
   "cell_type": "markdown",
   "metadata": {},
   "source": [
    "### Instructional Minutes\n",
    "Examine the distribution of instructional minutes of math, language, and science."
   ]
  },
  {
   "cell_type": "code",
   "execution_count": 7,
   "metadata": {
    "scrolled": false
   },
   "outputs": [
    {
     "data": {
      "image/png": "[encoded data removed]",
      "text/plain": [
       "<Figure size 432x288 with 1 Axes>"
      ]
     },
     "metadata": {
      "needs_background": "light"
     },
     "output_type": "display_data"
    }
   ],
   "source": [
    "bins = np.arange(0,710,50)\n",
    "plt.hist(pisa_data.math_min,bins=bins, alpha=0.2)\n",
    "plt.hist(pisa_data.lang_min,bins=bins, alpha=0.2)\n",
    "plt.hist(pisa_data.science_min,bins=bins, alpha=0.2)\n",
    "plt.xlim(0,700)\n",
    "plt.legend(labels = ['math minutes','language minutes','science minutes']);"
   ]
  },
  {
   "cell_type": "markdown",
   "metadata": {},
   "source": [
    "Instructional time seems to be consistently spread in math and language,  150-250 minutes per week. Instructional time for science has more variability from student to student."
   ]
  },
  {
   "cell_type": "markdown",
   "metadata": {},
   "source": [
    "### Immigration\n",
    "Examine the distribution of the different generations of immigrants in the study."
   ]
  },
  {
   "cell_type": "code",
   "execution_count": 32,
   "metadata": {
    "scrolled": true
   },
   "outputs": [
    {
     "data": {
      "image/png": "[encoded data removed]",
      "text/plain": [
       "<Figure size 432x432 with 2 Axes>"
      ]
     },
     "metadata": {
      "needs_background": "light"
     },
     "output_type": "display_data"
    }
   ],
   "source": [
    "base_color = sb.color_palette()[0]\n",
    "plt.figure(figsize=(6,6))\n",
    "plt.subplot(211)\n",
    "sb.countplot(data = pisa_data, x = 'immigration', color = base_color);\n",
    "plt.subplot(212)\n",
    "sb.countplot(data = pisa_data[pisa_data.immigration.isin(['Second-Generation','First-Generation'])], x = 'immigration', color = base_color)\n",
    "plt.ylim(0,30000);"
   ]
  },
  {
   "cell_type": "markdown",
   "metadata": {},
   "source": [
    "Most of the students in the data set are native to their country, but there are still considerable numbers of second- and first-generation immigrants to analyze."
   ]
  },
  {
   "cell_type": "markdown",
   "metadata": {},
   "source": [
    "### Parental Education and Employment\n",
    "Investigate the levels of education and employment for parents."
   ]
  },
  {
   "cell_type": "code",
   "execution_count": 29,
   "metadata": {},
   "outputs": [],
   "source": [
    "# organize the levels of parent education in ordered data\n",
    "levels = ['None', 'ISCED 1', 'ISCED 2', 'ISCED 3B, C', 'ISCED 3A, ISCED 4', 'ISCED 5B', 'ISCED 5A, 6']\n",
    "edu_levels = pd.api.types.CategoricalDtype(ordered=True, categories = levels)\n",
    "pisa_data['parent_edu'] = pisa_data['parent_edu'].astype(edu_levels)\n",
    "pisa_data['father_edu'] = pisa_data['father_edu'].astype(edu_levels)\n",
    "pisa_data['mother_edu'] = pisa_data['mother_edu'].astype(edu_levels)\n"
   ]
  },
  {
   "cell_type": "code",
   "execution_count": 45,
   "metadata": {
    "scrolled": true
   },
   "outputs": [
    {
     "data": {
      "image/png": "[encoded data removed]",
      "text/plain": [
       "<Figure size 432x720 with 3 Axes>"
      ]
     },
     "metadata": {
      "needs_background": "light"
     },
     "output_type": "display_data"
    }
   ],
   "source": [
    "plt.figure(figsize=(6,10))\n",
    "xticks = np.arange(0,170000,20000)\n",
    "xlabels = ['0k','20k','40k','60k','80k','100k','120k','140k','160k']\n",
    "plt.subplot(311)\n",
    "sb.countplot(data = pisa_data, y = 'parent_edu', palette = 'inferno')\n",
    "plt.xticks(xticks,xlabels)\n",
    "plt.subplot(312)\n",
    "sb.countplot(data = pisa_data, y = 'father_edu', palette = 'inferno')\n",
    "plt.xticks(xticks,xlabels)\n",
    "plt.subplot(313)\n",
    "sb.countplot(data = pisa_data, y = 'mother_edu', palette = 'inferno')\n",
    "plt.xticks(xticks,xlabels);"
   ]
  },
  {
   "cell_type": "markdown",
   "metadata": {},
   "source": [
    "Distribution between parental education is fairly consistent between father and mother. Spikes occur at the traditional levels of lower secondary (ISCED 2), upper secondary (ISCED 3A or 4), and university or graduate studies (ISCED 5A or 6). Approximately half of the students in the study have a parent with some college education."
   ]
  },
  {
   "cell_type": "code",
   "execution_count": 60,
   "metadata": {
    "scrolled": true
   },
   "outputs": [
    {
     "data": {
      "image/png": "[encoded data removed]",
      "text/plain": [
       "<Figure size 432x720 with 3 Axes>"
      ]
     },
     "metadata": {
      "needs_background": "light"
     },
     "output_type": "display_data"
    }
   ],
   "source": [
    "yticks = np.arange(0,51000,10000)\n",
    "ylabels = ['0k','10k','20k','30k','40k','50k']\n",
    "plt.figure(figsize=(6,10))\n",
    "plt.subplot(311)\n",
    "plt.hist(pisa_data.parent_occ, bins = 25)\n",
    "plt.yticks(yticks,ylabels)\n",
    "plt.ylabel('Count')\n",
    "plt.xlabel('Highest Parental Occupation')\n",
    "plt.subplot(312)\n",
    "plt.hist(pisa_data.father_occ_status, bins = 25)\n",
    "plt.yticks(yticks,ylabels)\n",
    "plt.ylabel('Count')\n",
    "plt.xlabel('Father Occupation')\n",
    "plt.subplot(313)\n",
    "plt.hist(pisa_data.mother_occ_status, bins = 25)\n",
    "plt.yticks(yticks,ylabels)\n",
    "plt.ylabel('Count')\n",
    "plt.xlabel('Mother Occupation');"
   ]
  },
  {
   "cell_type": "code",
   "execution_count": 57,
   "metadata": {
    "scrolled": false
   },
   "outputs": [
    {
     "data": {
      "text/html": [
       "<div>\n",
       "<style scoped>\n",
       "    .dataframe tbody tr th:only-of-type {\n",
       "        vertical-align: middle;\n",
       "    }\n",
       "\n",
       "    .dataframe tbody tr th {\n",
       "        vertical-align: top;\n",
       "    }\n",
       "\n",
       "    .dataframe thead th {\n",
       "        text-align: right;\n",
       "    }\n",
       "</style>\n",
       "<table border=\"1\" class=\"dataframe\">\n",
       "  <thead>\n",
       "    <tr style=\"text-align: right;\">\n",
       "      <th></th>\n",
       "      <th>parent_occ</th>\n",
       "      <th>father_occ_status</th>\n",
       "      <th>mother_occ_status</th>\n",
       "    </tr>\n",
       "  </thead>\n",
       "  <tbody>\n",
       "    <tr>\n",
       "      <th>count</th>\n",
       "      <td>450621.000000</td>\n",
       "      <td>416150.000000</td>\n",
       "      <td>364814.000000</td>\n",
       "    </tr>\n",
       "    <tr>\n",
       "      <th>mean</th>\n",
       "      <td>48.923298</td>\n",
       "      <td>42.423367</td>\n",
       "      <td>44.408617</td>\n",
       "    </tr>\n",
       "    <tr>\n",
       "      <th>std</th>\n",
       "      <td>22.120953</td>\n",
       "      <td>21.622126</td>\n",
       "      <td>22.018510</td>\n",
       "    </tr>\n",
       "    <tr>\n",
       "      <th>min</th>\n",
       "      <td>11.010000</td>\n",
       "      <td>11.010000</td>\n",
       "      <td>11.010000</td>\n",
       "    </tr>\n",
       "    <tr>\n",
       "      <th>25%</th>\n",
       "      <td>28.520000</td>\n",
       "      <td>25.390000</td>\n",
       "      <td>25.040000</td>\n",
       "    </tr>\n",
       "    <tr>\n",
       "      <th>50%</th>\n",
       "      <td>48.820000</td>\n",
       "      <td>34.250000</td>\n",
       "      <td>43.330000</td>\n",
       "    </tr>\n",
       "    <tr>\n",
       "      <th>75%</th>\n",
       "      <td>70.340000</td>\n",
       "      <td>60.920000</td>\n",
       "      <td>65.010000</td>\n",
       "    </tr>\n",
       "    <tr>\n",
       "      <th>max</th>\n",
       "      <td>88.960000</td>\n",
       "      <td>88.960000</td>\n",
       "      <td>88.960000</td>\n",
       "    </tr>\n",
       "  </tbody>\n",
       "</table>\n",
       "</div>"
      ],
      "text/plain": [
       "          parent_occ  father_occ_status  mother_occ_status\n",
       "count  450621.000000      416150.000000      364814.000000\n",
       "mean       48.923298          42.423367          44.408617\n",
       "std        22.120953          21.622126          22.018510\n",
       "min        11.010000          11.010000          11.010000\n",
       "25%        28.520000          25.390000          25.040000\n",
       "50%        48.820000          34.250000          43.330000\n",
       "75%        70.340000          60.920000          65.010000\n",
       "max        88.960000          88.960000          88.960000"
      ]
     },
     "execution_count": 57,
     "metadata": {},
     "output_type": "execute_result"
    }
   ],
   "source": [
    "pisa_data[['parent_occ','father_occ_status','mother_occ_status']].describe()"
   ]
  },
  {
   "cell_type": "markdown",
   "metadata": {},
   "source": [
    "Distribution of occupational level for parents is fairly spread out with a mean of approximately 49 and a standard deviation of 22 (with a minumum of 11 and maximum of 89). When parental occupation is analyzed by gender, the lower quartiles are fairly similar to one another, then the distribution of mother's occupation takes a small lead over father's occupation."
   ]
  },
  {
   "cell_type": "code",
   "execution_count": 9,
   "metadata": {
    "scrolled": true
   },
   "outputs": [
    {
     "name": "stderr",
     "output_type": "stream",
     "text": [
      "C:\\Users\\sjhal\\Anaconda3\\envs\\dap\\lib\\site-packages\\numpy\\lib\\histograms.py:839: RuntimeWarning: invalid value encountered in greater_equal\n",
      "  keep = (tmp_a >= first_edge)\n",
      "C:\\Users\\sjhal\\Anaconda3\\envs\\dap\\lib\\site-packages\\numpy\\lib\\histograms.py:840: RuntimeWarning: invalid value encountered in less_equal\n",
      "  keep &= (tmp_a <= last_edge)\n"
     ]
    },
    {
     "data": {
      "image/png": "[encoded data removed]",
      "text/plain": [
       "<Figure size 432x288 with 1 Axes>"
      ]
     },
     "metadata": {
      "needs_background": "light"
     },
     "output_type": "display_data"
    }
   ],
   "source": [
    "plt.hist(pisa_data.status_index, bins = 50);"
   ]
  },
  {
   "cell_type": "code",
   "execution_count": 10,
   "metadata": {},
   "outputs": [
    {
     "data": {
      "image/png": "[encoded data removed]",
      "text/plain": [
       "<Figure size 432x288 with 1 Axes>"
      ]
     },
     "metadata": {
      "needs_background": "light"
     },
     "output_type": "display_data"
    }
   ],
   "source": [
    "plt.hist(pisa_data.math_anxiety, bins = np.arange(-2.75,3.35,0.5));"
   ]
  },
  {
   "cell_type": "markdown",
   "metadata": {},
   "source": [
    "> Make sure that, after every plot or related series of plots, that you\n",
    "include a Markdown cell with comments about what you observed, and what\n",
    "you plan on investigating next."
   ]
  },
  {
   "cell_type": "code",
   "execution_count": null,
   "metadata": {},
   "outputs": [],
   "source": []
  },
  {
   "cell_type": "markdown",
   "metadata": {},
   "source": [
    "### Discuss the distribution(s) of your variable(s) of interest. Were there any unusual points? Did you need to perform any transformations?\n",
    "\n",
    "> Your answer here!\n",
    "\n",
    "### Of the features you investigated, were there any unusual distributions? Did you perform any operations on the data to tidy, adjust, or change the form of the data? If so, why did you do this?\n",
    "\n",
    "> Your answer here!"
   ]
  },
  {
   "cell_type": "markdown",
   "metadata": {},
   "source": [
    "## Bivariate Exploration\n",
    "\n",
    "> In this section, investigate relationships between pairs of variables in your\n",
    "data. Make sure the variables that you cover here have been introduced in some\n",
    "fashion in the previous section (univariate exploration)."
   ]
  },
  {
   "cell_type": "code",
   "execution_count": null,
   "metadata": {},
   "outputs": [],
   "source": []
  },
  {
   "cell_type": "markdown",
   "metadata": {},
   "source": [
    "### Talk about some of the relationships you observed in this part of the investigation. How did the feature(s) of interest vary with other features in the dataset?\n",
    "\n",
    "> Your answer here!\n",
    "\n",
    "### Did you observe any interesting relationships between the other features (not the main feature(s) of interest)?\n",
    "\n",
    "> Your answer here!"
   ]
  },
  {
   "cell_type": "markdown",
   "metadata": {},
   "source": [
    "## Multivariate Exploration\n",
    "\n",
    "> Create plots of three or more variables to investigate your data even\n",
    "further. Make sure that your investigations are justified, and follow from\n",
    "your work in the previous sections."
   ]
  },
  {
   "cell_type": "code",
   "execution_count": null,
   "metadata": {},
   "outputs": [],
   "source": []
  },
  {
   "cell_type": "markdown",
   "metadata": {},
   "source": [
    "### Talk about some of the relationships you observed in this part of the investigation. Were there features that strengthened each other in terms of looking at your feature(s) of interest?\n",
    "\n",
    "> Your answer here!\n",
    "\n",
    "### Were there any interesting or surprising interactions between features?\n",
    "\n",
    "> Your answer here!"
   ]
  },
  {
   "cell_type": "markdown",
   "metadata": {},
   "source": [
    "> At the end of your report, make sure that you export the notebook as an\n",
    "html file from the `File > Download as... > HTML` menu. Make sure you keep\n",
    "track of where the exported file goes, so you can put it in the same folder\n",
    "as this notebook for project submission. Also, make sure you remove all of\n",
    "the quote-formatted guide notes like this one before you finish your report!"
   ]
  },
  {
   "cell_type": "code",
   "execution_count": null,
   "metadata": {},
   "outputs": [],
   "source": []
  }
 ],
 "metadata": {
  "kernelspec": {
   "display_name": "Python 3",
   "language": "python",
   "name": "python3"
  },
  "language_info": {
   "codemirror_mode": {
    "name": "ipython",
    "version": 3
   },
   "file_extension": ".py",
   "mimetype": "text/x-python",
   "name": "python",
   "nbconvert_exporter": "python",
   "pygments_lexer": "ipython3",
   "version": "3.6.10"
  }
 },
 "nbformat": 4,
 "nbformat_minor": 2
}
